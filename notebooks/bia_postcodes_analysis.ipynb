{
 "cells": [
  {
   "cell_type": "markdown",
   "id": "a996b762",
   "metadata": {},
   "source": [
    "## Análisis Exploratorio"
   ]
  },
  {
   "cell_type": "code",
   "execution_count": 12,
   "id": "c30cdc97",
   "metadata": {},
   "outputs": [],
   "source": [
    "import pandas as pd\n",
    "import seaborn as sns\n",
    "import matplotlib.pyplot as plt\n",
    "\n",
    "sns.set(style=\"whitegrid\")\n",
    "plt.rcParams[\"figure.figsize\"] = (10, 6)"
   ]
  },
  {
   "cell_type": "code",
   "execution_count": 2,
   "id": "a8225eb0",
   "metadata": {},
   "outputs": [],
   "source": [
    "import os\n",
    "\n",
    "df = pd.read_csv(\"C:/Users/GOLDEN/Desktop/bia-energy-case/reports/enriched_postcodes.csv\")\n",
    "df = pd.read_csv(\"C:/Users/GOLDEN/Desktop/bia-energy-case/reports/top_postcodes.csv\")\n",
    "df = pd.read_csv(\"C:/Users/GOLDEN/Desktop/bia-energy-case/reports/quality_stats.csv\")"
   ]
  },
  {
   "cell_type": "code",
   "execution_count": 7,
   "id": "fcfd5d9e",
   "metadata": {},
   "outputs": [
    {
     "name": "stdout",
     "output_type": "stream",
     "text": [
      "Vista general del dataset enriquecido:\n"
     ]
    },
    {
     "data": {
      "text/html": [
       "<div>\n",
       "<style scoped>\n",
       "    .dataframe tbody tr th:only-of-type {\n",
       "        vertical-align: middle;\n",
       "    }\n",
       "\n",
       "    .dataframe tbody tr th {\n",
       "        vertical-align: top;\n",
       "    }\n",
       "\n",
       "    .dataframe thead th {\n",
       "        text-align: right;\n",
       "    }\n",
       "</style>\n",
       "<table border=\"1\" class=\"dataframe\">\n",
       "  <thead>\n",
       "    <tr style=\"text-align: right;\">\n",
       "      <th></th>\n",
       "      <th>latitude</th>\n",
       "      <th>longitude</th>\n",
       "      <th>postcode</th>\n",
       "      <th>country</th>\n",
       "      <th>admin_district</th>\n",
       "      <th>nhs_ha</th>\n",
       "      <th>distance</th>\n",
       "    </tr>\n",
       "  </thead>\n",
       "  <tbody>\n",
       "    <tr>\n",
       "      <th>0</th>\n",
       "      <td>52.923454</td>\n",
       "      <td>-1.474217</td>\n",
       "      <td>DE1 9RB</td>\n",
       "      <td>England</td>\n",
       "      <td>Derby</td>\n",
       "      <td>East Midlands</td>\n",
       "      <td>0.0</td>\n",
       "    </tr>\n",
       "    <tr>\n",
       "      <th>1</th>\n",
       "      <td>53.457321</td>\n",
       "      <td>-2.262773</td>\n",
       "      <td>M15 5BR</td>\n",
       "      <td>England</td>\n",
       "      <td>Trafford</td>\n",
       "      <td>North West</td>\n",
       "      <td>0.0</td>\n",
       "    </tr>\n",
       "    <tr>\n",
       "      <th>2</th>\n",
       "      <td>50.871446</td>\n",
       "      <td>-0.729985</td>\n",
       "      <td>PO18 0QD</td>\n",
       "      <td>England</td>\n",
       "      <td>Chichester</td>\n",
       "      <td>South East Coast</td>\n",
       "      <td>0.0</td>\n",
       "    </tr>\n",
       "    <tr>\n",
       "      <th>3</th>\n",
       "      <td>50.215687</td>\n",
       "      <td>-5.191573</td>\n",
       "      <td>TR16 6JB</td>\n",
       "      <td>England</td>\n",
       "      <td>Cornwall</td>\n",
       "      <td>South West</td>\n",
       "      <td>0.0</td>\n",
       "    </tr>\n",
       "    <tr>\n",
       "      <th>4</th>\n",
       "      <td>57.540178</td>\n",
       "      <td>-3.758607</td>\n",
       "      <td>IV12 5LD</td>\n",
       "      <td>Scotland</td>\n",
       "      <td>Highland</td>\n",
       "      <td>Highland</td>\n",
       "      <td>0.0</td>\n",
       "    </tr>\n",
       "  </tbody>\n",
       "</table>\n",
       "</div>"
      ],
      "text/plain": [
       "    latitude  longitude  postcode   country admin_district            nhs_ha  \\\n",
       "0  52.923454  -1.474217   DE1 9RB   England          Derby     East Midlands   \n",
       "1  53.457321  -2.262773   M15 5BR   England       Trafford        North West   \n",
       "2  50.871446  -0.729985  PO18 0QD   England     Chichester  South East Coast   \n",
       "3  50.215687  -5.191573  TR16 6JB   England       Cornwall        South West   \n",
       "4  57.540178  -3.758607  IV12 5LD  Scotland       Highland          Highland   \n",
       "\n",
       "   distance  \n",
       "0       0.0  \n",
       "1       0.0  \n",
       "2       0.0  \n",
       "3       0.0  \n",
       "4       0.0  "
      ]
     },
     "metadata": {},
     "output_type": "display_data"
    }
   ],
   "source": [
    "df = pd.read_csv(\"C:/Users/GOLDEN/Desktop/bia-energy-case/reports/enriched_postcodes.csv\")\n",
    "print(\"Vista general del dataset enriquecido:\")\n",
    "display(df.head())\n"
   ]
  },
  {
   "cell_type": "code",
   "execution_count": 4,
   "id": "3deb9883",
   "metadata": {},
   "outputs": [
    {
     "name": "stdout",
     "output_type": "stream",
     "text": [
      "Top 10 códigos postales más frecuentes:\n"
     ]
    },
    {
     "data": {
      "image/png": "[encoded data removed]",
      "text/plain": [
       "<Figure size 432x288 with 1 Axes>"
      ]
     },
     "metadata": {
      "needs_background": "light"
     },
     "output_type": "display_data"
    }
   ],
   "source": [
    "top_postcodes = pd.read_csv(\"C:/Users/GOLDEN/Desktop/bia-energy-case/reports/top_postcodes.csv\")\n",
    "\n",
    "print(\"Top 10 códigos postales más frecuentes:\")\n",
    "sns.barplot(\n",
    "    data=top_postcodes,\n",
    "    x=\"count\",\n",
    "    y=\"postcode\",\n",
    "    hue=\"postcode\",\n",
    "    palette=\"viridis\",\n",
    "    legend=False\n",
    ")\n",
    "plt.title(\"Top 10 Códigos Postales Más Frecuentes\")\n",
    "plt.xlabel(\"Frecuencia\")\n",
    "plt.ylabel(\"Código Postal\")\n",
    "plt.tight_layout()\n",
    "plt.show()"
   ]
  },
  {
   "cell_type": "code",
   "execution_count": 5,
   "id": "119a975e-573e-4cc7-b381-3b39a058bfba",
   "metadata": {},
   "outputs": [
    {
     "data": {
      "image/png": "[encoded data removed]",
      "text/plain": [
       "<Figure size 432x288 with 1 Axes>"
      ]
     },
     "metadata": {
      "needs_background": "light"
     },
     "output_type": "display_data"
    },
    {
     "data": {
      "image/png": "[encoded data removed]",
      "text/plain": [
       "<Figure size 432x288 with 1 Axes>"
      ]
     },
     "metadata": {
      "needs_background": "light"
     },
     "output_type": "display_data"
    }
   ],
   "source": [
    "quality_stats = pd.read_csv(\"C:/Users/GOLDEN/Desktop/bia-energy-case/reports/quality_stats.csv\")\n",
    "\n",
    "# Extraer valores individuales\n",
    "stats = quality_stats.iloc[0]\n",
    "\n",
    "# Gráfico de porcentaje de códigos postales nulos vs válidos\n",
    "plt.figure(figsize=(6, 4))\n",
    "plt.bar([\"Válidos\", \"Nulos\"], [stats[\"pct_valid_postcode\"], stats[\"pct_null_postcode\"]], color=[\"#4CAF50\", \"#F44336\"])\n",
    "plt.ylabel(\"Porcentaje\")\n",
    "plt.title(\"Porcentaje de códigos postales válidos vs nulos\")\n",
    "plt.ylim(0, 100)\n",
    "plt.tight_layout()\n",
    "plt.show()\n",
    "\n",
    "# Gráfico de métricas de distancia\n",
    "plt.figure(figsize=(6, 4))\n",
    "plt.bar([\"Promedio\", \"Desviación Std\"], [stats[\"avg_distance\"], stats[\"std_distance\"]], color=[\"#2196F3\", \"#FF9800\"])\n",
    "plt.ylabel(\"Distancia\")\n",
    "plt.title(\"Distancia promedio y desviación estándar\")\n",
    "plt.tight_layout()\n",
    "plt.show()\n"
   ]
  },
  {
   "cell_type": "code",
   "execution_count": 11,
   "id": "aeb07bed",
   "metadata": {},
   "outputs": [
    {
     "name": "stdout",
     "output_type": "stream",
     "text": [
      "Quality Stats:\n"
     ]
    },
    {
     "data": {
      "text/html": [
       "<div>\n",
       "<style scoped>\n",
       "    .dataframe tbody tr th:only-of-type {\n",
       "        vertical-align: middle;\n",
       "    }\n",
       "\n",
       "    .dataframe tbody tr th {\n",
       "        vertical-align: top;\n",
       "    }\n",
       "\n",
       "    .dataframe thead th {\n",
       "        text-align: right;\n",
       "    }\n",
       "</style>\n",
       "<table border=\"1\" class=\"dataframe\">\n",
       "  <thead>\n",
       "    <tr style=\"text-align: right;\">\n",
       "      <th></th>\n",
       "      <th>Valor</th>\n",
       "    </tr>\n",
       "  </thead>\n",
       "  <tbody>\n",
       "    <tr>\n",
       "      <th>total_records</th>\n",
       "      <td>10833.00</td>\n",
       "    </tr>\n",
       "    <tr>\n",
       "      <th>null_postcodes</th>\n",
       "      <td>291.00</td>\n",
       "    </tr>\n",
       "    <tr>\n",
       "      <th>valid_postcodes</th>\n",
       "      <td>10542.00</td>\n",
       "    </tr>\n",
       "    <tr>\n",
       "      <th>pct_null_postcode</th>\n",
       "      <td>2.69</td>\n",
       "    </tr>\n",
       "    <tr>\n",
       "      <th>pct_valid_postcode</th>\n",
       "      <td>97.31</td>\n",
       "    </tr>\n",
       "    <tr>\n",
       "      <th>distinct_postcodes</th>\n",
       "      <td>10477.00</td>\n",
       "    </tr>\n",
       "    <tr>\n",
       "      <th>avg_distance</th>\n",
       "      <td>7.75</td>\n",
       "    </tr>\n",
       "    <tr>\n",
       "      <th>std_distance</th>\n",
       "      <td>17.38</td>\n",
       "    </tr>\n",
       "  </tbody>\n",
       "</table>\n",
       "</div>"
      ],
      "text/plain": [
       "                       Valor\n",
       "total_records       10833.00\n",
       "null_postcodes        291.00\n",
       "valid_postcodes     10542.00\n",
       "pct_null_postcode       2.69\n",
       "pct_valid_postcode     97.31\n",
       "distinct_postcodes  10477.00\n",
       "avg_distance            7.75\n",
       "std_distance           17.38"
      ]
     },
     "metadata": {},
     "output_type": "display_data"
    }
   ],
   "source": [
    "print(\"Quality Stats:\")\n",
    "display(quality_stats.T.rename(columns={0: \"Valor\"}))"
   ]
  },
  {
   "cell_type": "code",
   "execution_count": null,
   "id": "2be0c86d-de8c-467e-9521-0dedc401bc35",
   "metadata": {},
   "outputs": [],
   "source": []
  }
 ],
 "metadata": {
  "kernelspec": {
   "display_name": "Python 3 (ipykernel)",
   "language": "python",
   "name": "python3"
  },
  "language_info": {
   "codemirror_mode": {
    "name": "ipython",
    "version": 3
   },
   "file_extension": ".py",
   "mimetype": "text/x-python",
   "name": "python",
   "nbconvert_exporter": "python",
   "pygments_lexer": "ipython3",
   "version": "3.10.6"
  }
 },
 "nbformat": 4,
 "nbformat_minor": 5
}
